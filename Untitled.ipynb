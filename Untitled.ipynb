{
 "cells": [
  {
   "cell_type": "code",
   "execution_count": 3,
   "id": "d4b07475",
   "metadata": {},
   "outputs": [],
   "source": [
    "# importing libraries\n",
    "\n",
    "import pandas as pd"
   ]
  },
  {
   "cell_type": "code",
   "execution_count": 1,
   "id": "6313033f",
   "metadata": {},
   "outputs": [],
   "source": [
    "# assign the column names\n",
    "columns= [\"Passenger_id\", \"Flight_id\",\"From_airport_code\", \"To_airport_code\",\"Departure_time\", \"Duration\"]"
   ]
  },
  {
   "cell_type": "code",
   "execution_count": 7,
   "id": "1af08936",
   "metadata": {},
   "outputs": [],
   "source": [
    "# read the dataset\n",
    "passengerdata=pd.read_csv(\"AComp_Passenger_data_no_error.csv\", names=columns)"
   ]
  },
  {
   "cell_type": "code",
   "execution_count": 8,
   "id": "3708804f",
   "metadata": {},
   "outputs": [
    {
     "data": {
      "text/html": [
       "<div>\n",
       "<style scoped>\n",
       "    .dataframe tbody tr th:only-of-type {\n",
       "        vertical-align: middle;\n",
       "    }\n",
       "\n",
       "    .dataframe tbody tr th {\n",
       "        vertical-align: top;\n",
       "    }\n",
       "\n",
       "    .dataframe thead th {\n",
       "        text-align: right;\n",
       "    }\n",
       "</style>\n",
       "<table border=\"1\" class=\"dataframe\">\n",
       "  <thead>\n",
       "    <tr style=\"text-align: right;\">\n",
       "      <th></th>\n",
       "      <th>Passenger_id</th>\n",
       "      <th>Flight_id</th>\n",
       "      <th>From_airport_code</th>\n",
       "      <th>To_airport_code</th>\n",
       "      <th>Departure_time</th>\n",
       "      <th>Duration</th>\n",
       "    </tr>\n",
       "  </thead>\n",
       "  <tbody>\n",
       "    <tr>\n",
       "      <th>0</th>\n",
       "      <td>UES9151GS5</td>\n",
       "      <td>SQU6245R</td>\n",
       "      <td>DEN</td>\n",
       "      <td>FRA</td>\n",
       "      <td>1420564460</td>\n",
       "      <td>1049</td>\n",
       "    </tr>\n",
       "    <tr>\n",
       "      <th>1</th>\n",
       "      <td>UES9151GS5</td>\n",
       "      <td>XXQ4064B</td>\n",
       "      <td>JFK</td>\n",
       "      <td>FRA</td>\n",
       "      <td>1420563917</td>\n",
       "      <td>802</td>\n",
       "    </tr>\n",
       "    <tr>\n",
       "      <th>2</th>\n",
       "      <td>EZC9678QI6</td>\n",
       "      <td>SOH3431A</td>\n",
       "      <td>ORD</td>\n",
       "      <td>MIA</td>\n",
       "      <td>1420563649</td>\n",
       "      <td>250</td>\n",
       "    </tr>\n",
       "    <tr>\n",
       "      <th>3</th>\n",
       "      <td>ONL0812DH1</td>\n",
       "      <td>SOH3431A</td>\n",
       "      <td>ORD</td>\n",
       "      <td>MIA</td>\n",
       "      <td>1420563649</td>\n",
       "      <td>250</td>\n",
       "    </tr>\n",
       "    <tr>\n",
       "      <th>4</th>\n",
       "      <td>CYJ0225CH1</td>\n",
       "      <td>PME8178S</td>\n",
       "      <td>DEN</td>\n",
       "      <td>PEK</td>\n",
       "      <td>1420564409</td>\n",
       "      <td>1322</td>\n",
       "    </tr>\n",
       "  </tbody>\n",
       "</table>\n",
       "</div>"
      ],
      "text/plain": [
       "  Passenger_id Flight_id From_airport_code To_airport_code  Departure_time  \\\n",
       "0   UES9151GS5  SQU6245R               DEN             FRA      1420564460   \n",
       "1   UES9151GS5  XXQ4064B               JFK             FRA      1420563917   \n",
       "2   EZC9678QI6  SOH3431A               ORD             MIA      1420563649   \n",
       "3   ONL0812DH1  SOH3431A               ORD             MIA      1420563649   \n",
       "4   CYJ0225CH1  PME8178S               DEN             PEK      1420564409   \n",
       "\n",
       "   Duration  \n",
       "0      1049  \n",
       "1       802  \n",
       "2       250  \n",
       "3       250  \n",
       "4      1322  "
      ]
     },
     "execution_count": 8,
     "metadata": {},
     "output_type": "execute_result"
    }
   ],
   "source": [
    "passengerdata.head() # first look of passenger dataset"
   ]
  },
  {
   "cell_type": "code",
   "execution_count": 9,
   "id": "b198333b",
   "metadata": {},
   "outputs": [],
   "source": [
    "passenger = passengerdata.loc[:, 'Passenger_id']"
   ]
  },
  {
   "cell_type": "code",
   "execution_count": 10,
   "id": "7b5ed5e9",
   "metadata": {},
   "outputs": [],
   "source": [
    "# lists to store the data\n",
    "targetlist=[]\n",
    "dictionarylist=[]"
   ]
  },
  {
   "cell_type": "code",
   "execution_count": 11,
   "id": "90c26913",
   "metadata": {},
   "outputs": [],
   "source": [
    "# function to read the input data\n",
    "def read_input(data):\n",
    "    for line in data:\n",
    "        yield line.split()"
   ]
  },
  {
   "cell_type": "code",
   "execution_count": 12,
   "id": "666bd5b7",
   "metadata": {},
   "outputs": [],
   "source": [
    "# mapper function\n",
    "def mapper(data):\n",
    "    inputdata=read_input(data)\n",
    "    for words in inputdata:\n",
    "        dictkey={word: 1 for word in words}\n",
    "        dictionarylist.append(dict(dictkey))"
   ]
  },
  {
   "cell_type": "code",
   "execution_count": null,
   "id": "8d5797a3",
   "metadata": {},
   "outputs": [],
   "source": [
    "# reducer function\n",
    "\n",
    "def reducer():\n",
    "    dictionary=sorted(dictionarylist,key= lambda d : list(d.keys()))\n",
    "    \n",
    "    for key, value in dictionary[0].items():\n",
    "        current_target, current_count=[str(key),0]\n",
    "    \n",
    "    for diction in dictionary:\n",
    "        for key, value in diction.items:\n",
    "            \n",
    "            if key == current_target:\n",
    "                current_count=current_count+value\n",
    "            \n",
    "            else:\n",
    "                targetkey={current_target: current_count}\n",
    "                targetlist.append(dict(targetkey)"
   ]
  }
 ],
 "metadata": {
  "kernelspec": {
   "display_name": "Python 3 (ipykernel)",
   "language": "python",
   "name": "python3"
  },
  "language_info": {
   "codemirror_mode": {
    "name": "ipython",
    "version": 3
   },
   "file_extension": ".py",
   "mimetype": "text/x-python",
   "name": "python",
   "nbconvert_exporter": "python",
   "pygments_lexer": "ipython3",
   "version": "3.9.13"
  }
 },
 "nbformat": 4,
 "nbformat_minor": 5
}
